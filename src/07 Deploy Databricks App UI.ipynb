{
 "cells": [
  {
   "cell_type": "code",
   "execution_count": 0,
   "metadata": {
    "application/vnd.databricks.v1+cell": {
     "cellMetadata": {
      "byteLimit": 2048000,
      "rowLimit": 10000
     },
     "inputWidgets": {},
     "nuid": "bf825bf4-7cb4-402d-9fb9-262e6f19de1a",
     "showTitle": false,
     "tableResultSettingsMap": {},
     "title": ""
    }
   },
   "outputs": [],
   "source": [
    "%run ./utils/init"
   ]
  },
  {
   "cell_type": "code",
   "execution_count": 0,
   "metadata": {
    "application/vnd.databricks.v1+cell": {
     "cellMetadata": {
      "byteLimit": 2048000,
      "rowLimit": 10000
     },
     "inputWidgets": {},
     "nuid": "095ef02a-ee53-4931-b4ed-3f54dd356506",
     "showTitle": false,
     "tableResultSettingsMap": {},
     "title": ""
    }
   },
   "outputs": [],
   "source": [
    "from utils.apps_helper import LakehouseAppHelper\n",
    "\n",
    "app_name = f\"covid19-multiagent-chatbot\"\n",
    "\n",
    "helper = LakehouseAppHelper()\n",
    "app_details = helper.create(app_name, app_description=\"A multi-agent chatbot for COVID-19 related questions\")"
   ]
  },
  {
   "cell_type": "code",
   "execution_count": 0,
   "metadata": {
    "application/vnd.databricks.v1+cell": {
     "cellMetadata": {
      "byteLimit": 2048000,
      "rowLimit": 10000
     },
     "inputWidgets": {},
     "nuid": "836e7df2-a5de-4837-be3b-59a2ff65ca07",
     "showTitle": false,
     "tableResultSettingsMap": {},
     "title": ""
    }
   },
   "outputs": [],
   "source": [
    "import yaml\n",
    "from pathlib import Path\n",
    "\n",
    "app_config = yaml.safe_load(Path('app/app.yaml').read_text())\n",
    "endpoint_name = [ env[\"value\"] for env in app_config[\"env\"] if env[\"name\"]==\"SERVING_ENDPOINT\"][0]"
   ]
  },
  {
   "cell_type": "code",
   "execution_count": 0,
   "metadata": {
    "application/vnd.databricks.v1+cell": {
     "cellMetadata": {
      "byteLimit": 2048000,
      "rowLimit": 10000
     },
     "inputWidgets": {},
     "nuid": "7fafdd70-cca1-4732-b159-b04e3fa34124",
     "showTitle": false,
     "tableResultSettingsMap": {},
     "title": ""
    }
   },
   "outputs": [],
   "source": [
    "#please wait until the app is created\n",
    "helper.add_dependencies(\n",
    "    app_name=app_name,\n",
    "    dependencies=[\n",
    "        {\n",
    "            \"name\": \"llm-endpoint\",\n",
    "            \"serving_endpoint\": {\n",
    "                \"name\": endpoint_name,\n",
    "                \"permission\": \"CAN_QUERY\",\n",
    "            },\n",
    "        }\n",
    "    ],\n",
    "    overwrite=False # if False dependencies will be appended to existing ones\n",
    ")"
   ]
  },
  {
   "cell_type": "code",
   "execution_count": 0,
   "metadata": {
    "application/vnd.databricks.v1+cell": {
     "cellMetadata": {
      "byteLimit": 2048000,
      "rowLimit": 10000
     },
     "inputWidgets": {},
     "nuid": "597e1bf7-3276-45de-8f9b-991ebea8adba",
     "showTitle": false,
     "tableResultSettingsMap": {},
     "title": ""
    }
   },
   "outputs": [],
   "source": [
    "import os\n",
    "helper.deploy(app_name, os.path.join(os.getcwd(), 'app'))\n",
    "displayHTML(helper.details(app_name))"
   ]
  }
 ],
 "metadata": {
  "application/vnd.databricks.v1+notebook": {
   "computePreferences": null,
   "dashboards": [],
   "environmentMetadata": {
    "base_environment": "",
    "environment_version": "2"
   },
   "inputWidgetPreferences": null,
   "language": "python",
   "notebookMetadata": {
    "pythonIndentUnit": 4
   },
   "notebookName": "07 Deploy Databricks App UI",
   "widgets": {}
  },
  "language_info": {
   "name": "python"
  }
 },
 "nbformat": 4,
 "nbformat_minor": 0
}
